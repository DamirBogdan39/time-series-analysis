{
 "cells": [
  {
   "cell_type": "markdown",
   "id": "05260aa8",
   "metadata": {},
   "source": [
    "# # Installation: \n",
    "\n",
    "pip install QNPy"
   ]
  },
  {
   "cell_type": "markdown",
   "id": "5af543f0",
   "metadata": {},
   "source": [
    "# REQUIREMENTS"
   ]
  },
  {
   "cell_type": "markdown",
   "id": "68f573be",
   "metadata": {},
   "source": [
    "This package contain a requirements.txt file with all the requirements that need to be setisfied (mainly other packages) before you can use it as a single package. To install all requirements at once, you will need to:\n",
    "\n",
    "1. in command line navigate to the directory where you downloaded your package (where the requirements.txt file is)\n",
    "2. once you are there type:\n",
    "pip install -r requirements.txt\n",
    "\n",
    "You are redy to use QNPy package now"
   ]
  },
  {
   "cell_type": "markdown",
   "id": "7a71347f",
   "metadata": {},
   "source": [
    "# Preprocess"
   ]
  },
  {
   "cell_type": "markdown",
   "id": "c46b26ac",
   "metadata": {},
   "source": [
    "Before running this script, you must create the following folders in the directory where your Python notebook is located:\n",
    "1. ./Padded_lc/ -- folder for saving the backward padded light curves\n",
    "1. ./preproc/ --  folder for saving the transformed data"
   ]
  },
  {
   "cell_type": "code",
   "execution_count": 1,
   "id": "b513b8ee",
   "metadata": {},
   "outputs": [],
   "source": [
    "import QNPy #Importing the package\n",
    "\n",
    "from QNPy import Preprocess as pr #Importing Preprocess module from the package\n",
    "from QNPy.Preprocess import transform #importing the funcion transform for transformation the data\n",
    "from QNPy.Preprocess import * #importing all external packages from Preprocess"
   ]
  },
  {
   "cell_type": "code",
   "execution_count": 3,
   "id": "141e87a9",
   "metadata": {},
   "outputs": [],
   "source": [
    "#Importing the data. This can be done in any desired manner, but the data must contain:\n",
    "#mjd - MJD or time, mag-magnitude and magerr-magnitude error. \n",
    "# In this example we used pandas python package for importing the .csv data, but numpy can be used if the data is \n",
    "#in .txt file\n",
    "path = './Light_curves' #path to data\n",
    "csv_files = glob.glob(path + \"/*.csv\")\n",
    "df_list = (pd.read_csv(file) for file in csv_files)\n",
    "data = pd.concat(df_list, ignore_index=True)"
   ]
  },
  {
   "cell_type": "code",
   "execution_count": 4,
   "id": "1cbbf9f0",
   "metadata": {},
   "outputs": [
    {
     "name": "stdout",
     "output_type": "stream",
     "text": [
      "Created new file: ./Padded_lc/5.csv\n",
      "Created new file: ./Padded_lc/1.csv\n",
      "Created new file: ./Padded_lc/2.csv\n",
      "Created new file: ./Padded_lc/7.csv\n",
      "Created new file: ./Padded_lc/10.csv\n",
      "Created new file: ./Padded_lc/8.csv\n",
      "Created new file: ./Padded_lc/9.csv\n",
      "Created new file: ./Padded_lc/4.csv\n",
      "Created new file: ./Padded_lc/3.csv\n",
      "Created new file: ./Padded_lc/6.csv\n"
     ]
    }
   ],
   "source": [
    "# Padding the light curves\n",
    "# We added the function for backward padding the curves with last observed value\n",
    "# The length for padding should remain 100 or above \n",
    "\n",
    "padding= pr.backward_pad_curves('./Light_curves', './Padded_lc', desired_observations=100)"
   ]
  },
  {
   "cell_type": "code",
   "execution_count": 5,
   "id": "07418c79",
   "metadata": {},
   "outputs": [],
   "source": [
    "#Path to Padded Data\n",
    "DATA_SRC = \"./Padded_lc\" \n",
    "#path to folder to save preproc data (transformed data) + errors\n",
    "DATA_DST = \"./preproc\" "
   ]
  },
  {
   "cell_type": "code",
   "execution_count": 6,
   "id": "fd252941",
   "metadata": {},
   "outputs": [],
   "source": [
    "#listing the data that are going to be transformed. \n",
    "#In case that your original data is in one table, this is not needed\n",
    "files = os.listdir(DATA_SRC) "
   ]
  },
  {
   "cell_type": "code",
   "execution_count": 8,
   "id": "61b408ac",
   "metadata": {},
   "outputs": [],
   "source": [
    "#running the transformation function\n",
    "number_of_points, trcoeff = pr.transform_and_save(files, DATA_SRC, DATA_DST, transform)"
   ]
  }
 ],
 "metadata": {
  "kernelspec": {
   "display_name": "Python 3 (ipykernel)",
   "language": "python",
   "name": "python3"
  },
  "language_info": {
   "codemirror_mode": {
    "name": "ipython",
    "version": 3
   },
   "file_extension": ".py",
   "mimetype": "text/x-python",
   "name": "python",
   "nbconvert_exporter": "python",
   "pygments_lexer": "ipython3",
   "version": "3.10.12"
  }
 },
 "nbformat": 4,
 "nbformat_minor": 5
}
